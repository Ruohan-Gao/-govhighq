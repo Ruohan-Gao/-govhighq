{
  "nbformat": 4,
  "nbformat_minor": 0,
  "metadata": {
    "colab": {
      "provenance": []
    },
    "kernelspec": {
      "name": "python3",
      "display_name": "Python 3"
    },
    "language_info": {
      "name": "python"
    }
  },
  "cells": [
    {
      "cell_type": "code",
      "execution_count": 1,
      "metadata": {
        "colab": {
          "base_uri": "https://localhost:8080/"
        },
        "id": "vUCIBTnZCLcw",
        "outputId": "89e87de5-5df9-48c5-c5d9-c1139f4c0c53"
      },
      "outputs": [
        {
          "output_type": "stream",
          "name": "stdout",
          "text": [
            "Collecting azure-storage-blob\n",
            "  Downloading azure_storage_blob-12.25.1-py3-none-any.whl.metadata (26 kB)\n",
            "Collecting azure-core>=1.30.0 (from azure-storage-blob)\n",
            "  Downloading azure_core-1.35.0-py3-none-any.whl.metadata (44 kB)\n",
            "\u001b[2K     \u001b[90m━━━━━━━━━━━━━━━━━━━━━━━━━━━━━━━━━━━━━━━\u001b[0m \u001b[32m44.4/44.4 kB\u001b[0m \u001b[31m384.6 kB/s\u001b[0m eta \u001b[36m0:00:00\u001b[0m\n",
            "\u001b[?25hRequirement already satisfied: cryptography>=2.1.4 in /usr/local/lib/python3.11/dist-packages (from azure-storage-blob) (43.0.3)\n",
            "Requirement already satisfied: typing-extensions>=4.6.0 in /usr/local/lib/python3.11/dist-packages (from azure-storage-blob) (4.14.1)\n",
            "Collecting isodate>=0.6.1 (from azure-storage-blob)\n",
            "  Downloading isodate-0.7.2-py3-none-any.whl.metadata (11 kB)\n",
            "Requirement already satisfied: requests>=2.21.0 in /usr/local/lib/python3.11/dist-packages (from azure-core>=1.30.0->azure-storage-blob) (2.32.3)\n",
            "Requirement already satisfied: six>=1.11.0 in /usr/local/lib/python3.11/dist-packages (from azure-core>=1.30.0->azure-storage-blob) (1.17.0)\n",
            "Requirement already satisfied: cffi>=1.12 in /usr/local/lib/python3.11/dist-packages (from cryptography>=2.1.4->azure-storage-blob) (1.17.1)\n",
            "Requirement already satisfied: pycparser in /usr/local/lib/python3.11/dist-packages (from cffi>=1.12->cryptography>=2.1.4->azure-storage-blob) (2.22)\n",
            "Requirement already satisfied: charset-normalizer<4,>=2 in /usr/local/lib/python3.11/dist-packages (from requests>=2.21.0->azure-core>=1.30.0->azure-storage-blob) (3.4.2)\n",
            "Requirement already satisfied: idna<4,>=2.5 in /usr/local/lib/python3.11/dist-packages (from requests>=2.21.0->azure-core>=1.30.0->azure-storage-blob) (3.10)\n",
            "Requirement already satisfied: urllib3<3,>=1.21.1 in /usr/local/lib/python3.11/dist-packages (from requests>=2.21.0->azure-core>=1.30.0->azure-storage-blob) (2.4.0)\n",
            "Requirement already satisfied: certifi>=2017.4.17 in /usr/local/lib/python3.11/dist-packages (from requests>=2.21.0->azure-core>=1.30.0->azure-storage-blob) (2025.7.9)\n",
            "Downloading azure_storage_blob-12.25.1-py3-none-any.whl (406 kB)\n",
            "\u001b[2K   \u001b[90m━━━━━━━━━━━━━━━━━━━━━━━━━━━━━━━━━━━━━━━━\u001b[0m \u001b[32m407.0/407.0 kB\u001b[0m \u001b[31m1.9 MB/s\u001b[0m eta \u001b[36m0:00:00\u001b[0m\n",
            "\u001b[?25hDownloading azure_core-1.35.0-py3-none-any.whl (210 kB)\n",
            "\u001b[2K   \u001b[90m━━━━━━━━━━━━━━━━━━━━━━━━━━━━━━━━━━━━━━━━\u001b[0m \u001b[32m210.7/210.7 kB\u001b[0m \u001b[31m11.9 MB/s\u001b[0m eta \u001b[36m0:00:00\u001b[0m\n",
            "\u001b[?25hDownloading isodate-0.7.2-py3-none-any.whl (22 kB)\n",
            "Installing collected packages: isodate, azure-core, azure-storage-blob\n",
            "Successfully installed azure-core-1.35.0 azure-storage-blob-12.25.1 isodate-0.7.2\n"
          ]
        }
      ],
      "source": [
        "!pip install azure-storage-blob\n",
        "import os\n",
        "from azure.storage.blob import BlobServiceClient"
      ]
    },
    {
      "cell_type": "code",
      "source": [
        "!pip install fpdf"
      ],
      "metadata": {
        "colab": {
          "base_uri": "https://localhost:8080/"
        },
        "id": "7KpumwVvD2UV",
        "outputId": "f4c84879-d5b8-4f93-85fc-5a1069bc73c3"
      },
      "execution_count": 2,
      "outputs": [
        {
          "output_type": "stream",
          "name": "stdout",
          "text": [
            "Collecting fpdf\n",
            "  Downloading fpdf-1.7.2.tar.gz (39 kB)\n",
            "  Preparing metadata (setup.py) ... \u001b[?25l\u001b[?25hdone\n",
            "Building wheels for collected packages: fpdf\n",
            "  Building wheel for fpdf (setup.py) ... \u001b[?25l\u001b[?25hdone\n",
            "  Created wheel for fpdf: filename=fpdf-1.7.2-py2.py3-none-any.whl size=40704 sha256=2665b756332e2d1e051f341c3bc3591c2dd61745b602af2f27ed4d800f158d70\n",
            "  Stored in directory: /root/.cache/pip/wheels/65/4f/66/bbda9866da446a72e206d6484cd97381cbc7859a7068541c36\n",
            "Successfully built fpdf\n",
            "Installing collected packages: fpdf\n",
            "Successfully installed fpdf-1.7.2\n"
          ]
        }
      ]
    },
    {
      "cell_type": "code",
      "source": [
        "from fpdf import FPDF\n",
        "\n",
        "pdf = FPDF()\n",
        "pdf.add_page()\n",
        "pdf.set_font(\"Arial\", size=12)\n",
        "pdf.cell(200, 10, txt=\"Mock Graph API download content\", ln=True, align='C')\n",
        "pdf.output(\"mock_downloaded.pdf\")\n",
        "\n",
        "print(\"Mock file 'mock_downloaded.pdf' created successfully\")"
      ],
      "metadata": {
        "colab": {
          "base_uri": "https://localhost:8080/"
        },
        "id": "4pHqjv04DrxD",
        "outputId": "c2b498ed-c6da-4aa8-83a0-22b47b8fd09f"
      },
      "execution_count": 3,
      "outputs": [
        {
          "output_type": "stream",
          "name": "stdout",
          "text": [
            "Mock file 'mock_downloaded.pdf' created successfully\n"
          ]
        }
      ]
    },
    {
      "cell_type": "code",
      "source": [
        "from azure.storage.blob import BlobServiceClient\n",
        "\n",
        "# 替换为你自己的连接字符串\n",
        "connection_string = \"yours\"\n",
        "container_name = \"govhighq\"\n",
        "blob_name = \"uploaded_from_graph_mock.pdf\"\n",
        "local_file_path = \"mock_downloaded.pdf\"\n",
        "\n",
        "# 初始化 BlobServiceClient\n",
        "blob_service_client = BlobServiceClient.from_connection_string(connection_string)\n",
        "container_client = blob_service_client.get_container_client(container_name)\n",
        "\n",
        "# 上传文件\n",
        "with open(local_file_path, \"rb\") as data:\n",
        "    container_client.upload_blob(name=blob_name, data=data, overwrite=True)\n",
        "\n",
        "print(f\"文件 {blob_name} 上传成功！\")"
      ],
      "metadata": {
        "colab": {
          "base_uri": "https://localhost:8080/"
        },
        "id": "n-nxZ2yXEBoh",
        "outputId": "44b3d0f5-5b2c-4c0d-ab94-8f55dbab64c4"
      },
      "execution_count": 6,
      "outputs": [
        {
          "output_type": "stream",
          "name": "stdout",
          "text": [
            "文件 uploaded_from_graph_mock.pdf 上传成功！\n"
          ]
        }
      ]
    },
    {
      "cell_type": "code",
      "source": [
        "# 引入 Azure Blob 服务库\n",
        "from azure.storage.blob import BlobServiceClient\n",
        "\n",
        "# 使用刚才的连接字符串\n",
        "connection_string = \"yours\"\n",
        "\n",
        "# 初始化 BlobServiceClient\n",
        "blob_service_client = BlobServiceClient.from_connection_string(connection_string)\n",
        "container_name = \"govhighq\"\n",
        "\n",
        "# 获取容器客户端\n",
        "container_client = blob_service_client.get_container_client(container_name)\n",
        "\n",
        "# 列出容器中的所有 blob 文件\n",
        "print(f\"Container '{container_name}' 中的文件列表：\")\n",
        "blob_list = container_client.list_blobs()\n",
        "for blob in blob_list:\n",
        "    print(\"-\", blob.name)"
      ],
      "metadata": {
        "colab": {
          "base_uri": "https://localhost:8080/"
        },
        "id": "hOYT2xndLFGF",
        "outputId": "7a7bf3ee-4936-4a58-fdf6-67c7044d0b9d"
      },
      "execution_count": 10,
      "outputs": [
        {
          "output_type": "stream",
          "name": "stdout",
          "text": [
            "Container 'govhighq' 中的文件列表：\n",
            "- mock_document.pdf\n",
            "- uploaded_from_graph_mock.pdf\n"
          ]
        }
      ]
    },
    {
      "cell_type": "markdown",
      "source": [
        "# Simulated Streaming Upload Example"
      ],
      "metadata": {
        "id": "8uogFpe-ceuq"
      }
    },
    {
      "cell_type": "code",
      "source": [
        "from azure.storage.blob import BlobServiceClient\n",
        "\n",
        "# 模拟 Graph API 下载返回的文件流（file-like object）\n",
        "mock_stream = open(\"mock_downloaded.pdf\", \"rb\")  # 就当成是 response.raw\n",
        "\n",
        "# Azure Blob Storage 设置\n",
        "connection_string = \"yours\"\n",
        "container_name = \"govhighq\"\n",
        "blob_name = \"stream_uploaded_mock.pdf\"\n",
        "\n",
        "# 初始化 Blob 客户端\n",
        "blob_service_client = BlobServiceClient.from_connection_string(connection_string)\n",
        "container_client = blob_service_client.get_container_client(container_name)\n",
        "\n",
        "# 使用“流式方式”上传，不读取内容进内存\n",
        "container_client.upload_blob(name=blob_name, data=mock_stream, overwrite=True)\n",
        "\n",
        "print(f\"使用流式方式成功上传文件 {blob_name}\")\n",
        "mock_stream.close()\n"
      ],
      "metadata": {
        "id": "DfZZMHOEci04"
      },
      "execution_count": null,
      "outputs": []
    }
  ]
}